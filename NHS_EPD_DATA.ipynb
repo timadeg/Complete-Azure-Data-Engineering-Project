{
  "cells": [
    {
      "cell_type": "code",
      "source": [
        "import urllib3\n",
        "import json\n",
        "import pandas as pd\n",
        "import re\n",
        "import warnings\n",
        "import urllib.parse\n",
        "\n",
        "warnings.simplefilter(\"ignore\", category=UserWarning)"
      ],
      "outputs": [],
      "execution_count": null,
      "metadata": {}
    },
    {
      "cell_type": "code",
      "source": [
        "# Initialize urllib3\n",
        "http = urllib3.PoolManager()"
      ],
      "outputs": [],
      "execution_count": null,
      "metadata": {
        "jupyter": {
          "source_hidden": false,
          "outputs_hidden": false
        },
        "nteract": {
          "transient": {
            "deleting": false
          }
        }
      }
    },
    {
      "cell_type": "code",
      "source": [
        "base_endpoint = 'https://opendata.nhsbsa.net/api/3/action/'\n",
        "package_list_method = 'package_list'\n",
        "package_show_method = 'package_show?id='\n",
        "action_method = 'datastore_search_sql?'"
      ],
      "outputs": [],
      "execution_count": null,
      "metadata": {
        "jupyter": {
          "source_hidden": false,
          "outputs_hidden": false
        },
        "nteract": {
          "transient": {
            "deleting": false
          }
        }
      }
    },
    {
      "cell_type": "code",
      "source": [
        "datasets_response = requests.get(base_endpoint +  package_list_method).json()"
      ],
      "outputs": [],
      "execution_count": null,
      "metadata": {}
    },
    {
      "cell_type": "code",
      "source": [
        "print(datasets_response['result'])"
      ],
      "outputs": [],
      "execution_count": null,
      "metadata": {}
    },
    {
      "cell_type": "code",
      "source": [
        "dataset_id = \"english-prescribing-data-epd\""
      ],
      "outputs": [],
      "execution_count": null,
      "metadata": {}
    },
    {
      "cell_type": "code",
      "source": [
        "resource_name = 'EPD_202401' # For EPD resources are named EPD_YYYYMM\n",
        "pco_code = '13T00' # Newcastle Gateshead CCG\n",
        "bnf_chemical_substance = '0407010H0' # Paracetamol"
      ],
      "outputs": [],
      "execution_count": null,
      "metadata": {}
    },
    {
      "cell_type": "code",
      "source": [
        "single_month_query = \"SELECT * \" \\\n",
        "                     f\"FROM `{resource_name}` \" \\\n",
        "                     f\"WHERE pco_code = '{pco_code}' \" \\\n",
        "                     f\"AND bnf_chemical_substance = '{bnf_chemical_substance}'\""
      ],
      "outputs": [],
      "execution_count": null,
      "metadata": {}
    },
    {
      "cell_type": "code",
      "source": [
        "single_month_api_call = f\"{base_endpoint}\" \\\n",
        "                        f\"{action_method}\" \\\n",
        "                        \"resource_id=\" \\\n",
        "                        f\"{resource_name}\" \\\n",
        "                        \"&\" \\\n",
        "                        \"sql=\" \\\n",
        "                        f\"{urllib.parse.quote(single_month_query)}\" # Encode spaces in the url"
      ],
      "outputs": [],
      "execution_count": null,
      "metadata": {}
    },
    {
      "cell_type": "code",
      "source": [
        "single_month_response = requests.get(single_month_api_call).json()"
      ],
      "outputs": [],
      "execution_count": null,
      "metadata": {}
    },
    {
      "cell_type": "code",
      "source": [
        "single_month_df  = pd.json_normalize(single_month_response['result']['result']['records'])"
      ],
      "outputs": [],
      "execution_count": null,
      "metadata": {}
    },
    {
      "cell_type": "code",
      "source": [
        "single_month_df.head()"
      ],
      "outputs": [],
      "execution_count": null,
      "metadata": {}
    },
    {
      "cell_type": "code",
      "source": [
        "metadata_repsonse  = requests.get(f\"{base_endpoint}\" \\\n",
        "                                  f\"{package_show_method}\" \\\n",
        "                                  f\"{dataset_id}\").json()"
      ],
      "outputs": [],
      "execution_count": null,
      "metadata": {}
    },
    {
      "cell_type": "code",
      "source": [
        "resources_table  = pd.json_normalize(metadata_repsonse['result']['resources'])"
      ],
      "outputs": [],
      "execution_count": null,
      "metadata": {}
    },
    {
      "cell_type": "code",
      "source": [
        "resource_name_list = resources_table[resources_table['name'].str.contains('2024')]['name']"
      ],
      "outputs": [],
      "execution_count": null,
      "metadata": {}
    },
    {
      "cell_type": "code",
      "source": [
        "for_loop_df = pd.DataFrame()"
      ],
      "outputs": [],
      "execution_count": null,
      "metadata": {}
    },
    {
      "cell_type": "code",
      "source": [
        "for month in resource_name_list:\n",
        "    \n",
        "    # Build temporary SQL query\n",
        "    tmp_query = \"SELECT * \" \\\n",
        "                f\"FROM `{month}` \" \\\n",
        "                f\"WHERE pco_code = '{pco_code}' \" \\\n",
        "                f\"AND bnf_chemical_substance = '{bnf_chemical_substance}'\"\n",
        "    \n",
        "    # Build temporary API call\n",
        "    tmp_api_call  = f\"{base_endpoint}\" \\\n",
        "                    f\"{action_method}\" \\\n",
        "                    \"resource_id=\" \\\n",
        "                    f\"{month}\" \\\n",
        "                    \"&\" \\\n",
        "                    \"sql=\" \\\n",
        "                    f\"{urllib.parse.quote(tmp_query)}\" # Encode spaces in the url"
      ],
      "outputs": [],
      "execution_count": null,
      "metadata": {}
    },
    {
      "cell_type": "code",
      "source": [
        "# Grab the response JSON as a temporary list\n",
        "tmp_response = requests.get(tmp_api_call).json()"
      ],
      "outputs": [],
      "execution_count": null,
      "metadata": {}
    },
    {
      "cell_type": "code",
      "source": [
        "# Extract records in the response to a temporary dataframe\n",
        "tmp_df = pd.json_normalize(tmp_response['result']['result']['records'])"
      ],
      "outputs": [],
      "execution_count": null,
      "metadata": {}
    },
    {
      "cell_type": "code",
      "source": [
        " # Bind the temporary data to the main dataframe\n",
        "for_loop_df = pd.concat([for_loop_df, tmp_df], ignore_index=True)"
      ],
      "outputs": [],
      "execution_count": null,
      "metadata": {}
    },
    {
      "cell_type": "code",
      "source": [
        "for_loop_df.head()"
      ],
      "outputs": [],
      "execution_count": null,
      "metadata": {}
    },
    {
      "cell_type": "code",
      "source": [
        "\n",
        "for_loop_df.to_csv('nhs_epd_2024_data.csv')"
      ],
      "outputs": [],
      "execution_count": null,
      "metadata": {}
    }
  ],
  "metadata": {
    "language_info": {
      "name": "python"
    },
    "kernelspec": {
      "name": "synapse_pyspark",
      "language": "Python",
      "display_name": "Synapse PySpark"
    },
    "kernel_info": {
      "name": "synapse_pyspark"
    },
    "save_output": true,
    "synapse_widget": {
      "version": "0.1",
      "state": {}
    }
  },
  "nbformat": 4,
  "nbformat_minor": 2
}