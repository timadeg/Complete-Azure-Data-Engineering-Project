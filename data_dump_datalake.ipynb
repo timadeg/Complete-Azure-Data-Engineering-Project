{
  "cells": [
    {
      "cell_type": "code",
      "source": [
        "account_name = \"dataengprojdatalake\"\n",
        "account_key = \"B79vP6L+dRx8yQCckVfgTRs8r1tRh+WbUX5buFEGpDtbWFiq1DPX4Kkgd+ZwRupiD/Zh0fnhbTZO+AStsfxhww==\"\n",
        "file_system_name = \"eng-data\"\n",
        "directory_path = \"tutorial-folder\"\n",
        "file_name = \"nhs_epd_2024_data.csv\"\n"
      ],
      "outputs": [],
      "execution_count": null,
      "metadata": {}
    },
    {
      "cell_type": "code",
      "source": [
        "service_client = DataLakeServiceClient(\n",
        "    account_url=f\"https://{account_name}.dfs.core.windows.net\",\n",
        "    credential=account_key\n",
        ")\n",
        "\n",
        "file_system_client = service_client.get_file_system_client(file_system=file_system_name)\n",
        "directory_client = file_system_client.get_directory_client(directory_path)\n",
        "directory_client.create_directory()\n",
        "\n",
        "file_client = directory_client.create_file(file_name)\n",
        "\n",
        "with open(\"/tmp/nhs_epd_2024_data.csv\", \"rb\") as f:\n",
        "    file_contents = f.read()\n",
        "    file_client.append_data(data=file_contents, offset=0, length=len(file_contents))\n",
        "    file_client.flush_data(len(file_contents))\n",
        "\n",
        "print(\"File uploaded to ADLS Gen2 from Synapse Notebook!\")"
      ],
      "outputs": [],
      "execution_count": null,
      "metadata": {}
    },
    {
      "cell_type": "code",
      "source": [
        "file_system_client = service_client.get_file_system_client(file_system=file_system_name)\n",
        "directory_client = file_system_client.get_directory_client(directory_path)\n",
        "directory_client.create_directory()"
      ],
      "outputs": [],
      "execution_count": null,
      "metadata": {}
    },
    {
      "cell_type": "code",
      "source": [
        "file_client = directory_client.create_file(file_name)"
      ],
      "outputs": [],
      "execution_count": null,
      "metadata": {}
    },
    {
      "cell_type": "code",
      "source": [
        "with open(\"/tmp/nhs_epd_2024_data.csv\", \"rb\") as f:\n",
        "    file_contents = f.read()\n",
        "    file_client.append_data(data=file_contents, offset=0, length=len(file_contents))\n",
        "    file_client.flush_data(len(file_contents))"
      ],
      "outputs": [],
      "execution_count": null,
      "metadata": {}
    },
    {
      "cell_type": "code",
      "source": [
        "print(\"File uploaded to ADLS Gen2 from Synapse Notebook!\")"
      ],
      "outputs": [],
      "execution_count": null,
      "metadata": {}
    }
  ],
  "metadata": {
    "language_info": {
      "name": "python"
    },
    "kernelspec": {
      "name": "synapse_pyspark",
      "language": "Python",
      "display_name": "Synapse PySpark"
    },
    "kernel_info": {
      "name": "synapse_pyspark"
    },
    "save_output": true,
    "synapse_widget": {
      "version": "0.1",
      "state": {}
    }
  },
  "nbformat": 4,
  "nbformat_minor": 2
}