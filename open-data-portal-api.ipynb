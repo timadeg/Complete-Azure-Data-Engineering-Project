{
 "cells": [
  {
   "cell_type": "markdown",
   "metadata": {},
   "source": [
    "# 1. Script details"
   ]
  },
  {
   "cell_type": "markdown",
   "metadata": {},
   "source": [
    "Name of script: OpenDataAPIQuery <br>\n",
    "Description:  Using Python to query the NHSBSA open data portal API. <br>"
   ]
  },
  {
   "cell_type": "markdown",
   "metadata": {},
   "source": [
    "# 2. Load packages"
   ]
  },
  {
   "cell_type": "markdown",
   "metadata": {},
   "source": [
    "List packages we will use"
   ]
  },
  {
   "cell_type": "code",
   "execution_count": 1,
   "metadata": {},
   "outputs": [],
   "source": [
    "import grequests\n",
    "import pandas as pd\n",
    "import re\n",
    "import requests\n",
    "import warnings\n",
    "import urllib.parse\n",
    "\n",
    "warnings.simplefilter(\"ignore\", category=UserWarning)"
   ]
  },
  {
   "cell_type": "markdown",
   "metadata": {},
   "source": [
    "Install packages if they aren't already using `Pip/Conda install -r requirements.txt`"
   ]
  },
  {
   "cell_type": "markdown",
   "metadata": {},
   "source": [
    "# 3. Define variablesDefine the url for the API call"
   ]
  },
  {
   "cell_type": "markdown",
   "metadata": {},
   "source": [
    "Define the url for the API call"
   ]
  },
  {
   "cell_type": "code",
   "execution_count": 2,
   "metadata": {},
   "outputs": [],
   "source": [
    "base_endpoint = 'https://opendata.nhsbsa.net/api/3/action/'\n",
    "package_list_method = 'package_list'     # List of data-sets in the portal\n",
    "package_show_method = 'package_show?id=' # List all resources of a data-set\n",
    "action_method = 'datastore_search_sql?'  # SQL action method"
   ]
  },
  {
   "cell_type": "markdown",
   "metadata": {},
   "source": [
    "Send API call to get list of data-sets"
   ]
  },
  {
   "cell_type": "code",
   "execution_count": 3,
   "metadata": {},
   "outputs": [],
   "source": [
    "datasets_response = requests.get(base_endpoint +  package_list_method).json()"
   ]
  },
  {
   "cell_type": "markdown",
   "metadata": {},
   "source": [
    "Now lets have a look at the data-sets currently available"
   ]
  },
  {
   "cell_type": "code",
   "execution_count": 4,
   "metadata": {},
   "outputs": [
    {
     "name": "stdout",
     "output_type": "stream",
     "text": [
      "['23362', '25521', 'bnf-code-information-current-year', 'bnf-code-information-historic', 'bnf-code-information-monthly-changes', 'consolidated-pharmaceutical-list', 'contractor-details', 'dental-activity-delivered-by-newly-qualified-foundation-dentists', 'dental-new-patient-premium', 'dispensing-practice-name-and-address', 'english-community-pharmacy-covid-19-vaccination-fees-current', 'english-community-pharmacy-covid-19-vaccination-service-fees-historic', 'english-contractor-monthly-general-dental-activity', 'english-contractor-monthly-general-dental-and-orthodontic-contractual-dataset', 'english-contractor-monthly-orthodontic-activity', 'english-prescribing-data-epd', 'english-prescribing-dataset-epd-with-snomed-code', 'finalised-secondary-care-medicines-data-scmd-with-indicative-price', 'foi-01003', 'foi-01004', 'foi-01005', 'foi-01006', 'foi-01008', 'foi-01009', 'foi-01012', 'foi-01016', 'foi-01017', 'foi-01019', 'foi-01020', 'foi-01021', 'foi-01022', 'foi-01024', 'foi-01025', 'foi-01028', 'foi-01031', 'foi-01033', 'foi-01035', 'foi-01037', 'foi-01040', 'foi-01041', 'foi-01044', 'foi-01045', 'foi-01047', 'foi-01049', 'foi-01050', 'foi-01052', 'foi-01054', 'foi-01055', 'foi-01057', 'foi-01059', 'foi-01061', 'foi-01062', 'foi-01063', 'foi-01065', 'foi-01068', 'foi-01069', 'foi-01070', 'foi-01071', 'foi-01073', 'foi-01074', 'foi-01075', 'foi-01076', 'foi-01077', 'foi-01079', 'foi-01080', 'foi-01081', 'foi-01082', 'foi-01083', 'foi-01084', 'foi-01086', 'foi-01087', 'foi-01089', 'foi-01090', 'foi-01091', 'foi-01093', 'foi-01094', 'foi-01095', 'foi-01096', 'foi-01097', 'foi-01098', 'foi-01100', 'foi-01101', 'foi-01102', 'foi-01103', 'foi-01104', 'foi-01105', 'foi-01107', 'foi-01109', 'foi-01110', 'foi-01111', 'foi-01114', 'foi-01115', 'foi-01116', 'foi-01117', 'foi-01118', 'foi-01119', 'foi-01120', 'foi-01121', 'foi-01122', 'foi-01123', 'foi-01124', 'foi-01125', 'foi-01126', 'foi-01128', 'foi-01129', 'foi-01130', 'foi-01131', 'foi-01132', 'foi-01133', 'foi-01135', 'foi-01137', 'foi-01138', 'foi-01139', 'foi-01140', 'foi-01142', 'foi-01143', 'foi-01144', 'foi-01145', 'foi-01146', 'foi-01147', 'foi-01148', 'foi-01150', 'foi-01151', 'foi-01152', 'foi-01153', 'foi-01154', 'foi-01155', 'foi-01156', 'foi-01160', 'foi-01161', 'foi-01162', 'foi-01163', 'foi-01164', 'foi-01165', 'foi-01167', 'foi-01168', 'foi-01169', 'foi-01170', 'foi-01171', 'foi-01172', 'foi-01173', 'foi-01174', 'foi-01176', 'foi-01177', 'foi-01178', 'foi-01180', 'foi-01181', 'foi-01182', 'foi-01183', 'foi-01184', 'foi-01185', 'foi-01186', 'foi-01188', 'foi-01189', 'foi-01190', 'foi-01192', 'foi-01193', 'foi-01194', 'foi-01197', 'foi-01198', 'foi-01199', 'foi-01200', 'foi-01201', 'foi-01204', 'foi-01205', 'foi-01206', 'foi-01207', 'foi-01208', 'foi-01209', 'foi-01210', 'foi-01214', 'foi-01215', 'foi-01218', 'foi-01219', 'foi-01222', 'foi-01226', 'foi-01227', 'foi-01228', 'foi-01229', 'foi-01230', 'foi-01231', 'foi-01233', 'foi-01234', 'foi-01235', 'foi-01236', 'foi-01239', 'foi-01240', 'foi-01241', 'foi-01242', 'foi-01246', 'foi-01247', 'foi-01250', 'foi-01251', 'foi-01252', 'foi-01254', 'foi-01255', 'foi-01257', 'foi-01258', 'foi-01259', 'foi-01260', 'foi-01261', 'foi-01262', 'foi-01263', 'foi-01264', 'foi-01265', 'foi-01266', 'foi-01267', 'foi-01268', 'foi-01269', 'foi-01270', 'foi-01271', 'foi-01272', 'foi-01273', 'foi-01274', 'foi-01275', 'foi-01276', 'foi-01277', 'foi-01279', 'foi-01281', 'foi-01282', 'foi-01283', 'foi-01284', 'foi-01285', 'foi-01286', 'foi-01288', 'foi-01290', 'foi-01291', 'foi-01292', 'foi-01293', 'foi-01294', 'foi-01295', 'foi-01296', 'foi-01298', 'foi-01299', 'foi-01300', 'foi-01301', 'foi-01302', 'foi-01303', 'foi-01304', 'foi-01305', 'foi-01306', 'foi-01307', 'foi-01308', 'foi-01309', 'foi-01310', 'foi-01311', 'foi-01313', 'foi-01314', 'foi-01315', 'foi-01317', 'foi-01318', 'foi-01319', 'foi-01320', 'foi-01321', 'foi-01322', 'foi-01323', 'foi-01324', 'foi-01325', 'foi-01326', 'foi-01327', 'foi-01328', 'foi-01329', 'foi-01330', 'foi-01332', 'foi-01333', 'foi-01335', 'foi-01336', 'foi-01337', 'foi-01338', 'foi-01339', 'foi-01341', 'foi-01343', 'foi-01344', 'foi-01345', 'foi-01346', 'foi-01347', 'foi-01349', 'foi-01350', 'foi-01351', 'foi-01352', 'foi-01353', 'foi-01355', 'foi-01357', 'foi-01358', 'foi-01359', 'foi-01361', 'foi-01362', 'foi-01363', 'foi-01364', 'foi-01366', 'foi-01368', 'foi-01369', 'foi-01370', 'foi-01371', 'foi-01372', 'foi-01373', 'foi-01374', 'foi-01375', 'foi-01376', 'foi-01377', 'foi-01378', 'foi-01379', 'foi-01381', 'foi-01382', 'foi-01383', 'foi-01384', 'foi-01386', 'foi-01387', 'foi-01389', 'foi-01390', 'foi-01391', 'foi-01393', 'foi-01394', 'foi-01395', 'foi-01396', 'foi-01398', 'foi-01400', 'foi-01402', 'foi-01403', 'foi-01404', 'foi-01406', 'foi-01407', 'foi-01408', 'foi-01409', 'foi-01410', 'foi-01411', 'foi-01412', 'foi-01414', 'foi-01415', 'foi-01416', 'foi-01419', 'foi-01420', 'foi-01421', 'foi-01422', 'foi-01423', 'foi-01424', 'foi-01425', 'foi-01426', 'foi-01428', 'foi-01429', 'foi-01430', 'foi-01431', 'foi-01432', 'foi-01433', 'foi-01434', 'foi-01435', 'foi-01436', 'foi-01437', 'foi-01438', 'foi-01439', 'foi-01440', 'foi-01441', 'foi-01442', 'foi-01444', 'foi-01445', 'foi-01447', 'foi-01448', 'foi-01450', 'foi-01451', 'foi-01452', 'foi-01453', 'foi-01455', 'foi-01456', 'foi-01459', 'foi-01460', 'foi-01462', 'foi-01463', 'foi-01464', 'foi-01465', 'foi-01466', 'foi-01468', 'foi-01469', 'foi-01470', 'foi-01472', 'foi-01473', 'foi-01475', 'foi-01476', 'foi-01477', 'foi-01478', 'foi-01479', 'foi-01480', 'foi-01482', 'foi-01484', 'foi-01486', 'foi-01487', 'foi-01488', 'foi-01489', 'foi-01491', 'foi-01492', 'foi-01494', 'foi-01495', 'foi-01496', 'foi-01497', 'foi-01500', 'foi-01501', 'foi-01502', 'foi-01503', 'foi-01504', 'foi-01505', 'foi-01506', 'foi-01508', 'foi-01509', 'foi-01510', 'foi-01511', 'foi-01512', 'foi-01513', 'foi-01514', 'foi-01515', 'foi-01516', 'foi-01517', 'foi-01518', 'foi-01521', 'foi-01522', 'foi-01524', 'foi-01525', 'foi-01527', 'foi-01528', 'foi-01529', 'foi-01532', 'foi-01533', 'foi-01535', 'foi-01536', 'foi-01537', 'foi-01538', 'foi-01539', 'foi-01540', 'foi-01541', 'foi-01543', 'foi-01544', 'foi-01545', 'foi-01546', 'foi-01547', 'foi-01548', 'foi-01549', 'foi-01550', 'foi-01552', 'foi-01553', 'foi-01554', 'foi-01555', 'foi-01557', 'foi-01558', 'foi-01559', 'foi-01560', 'foi-01561', 'foi-01562', 'foi-01563', 'foi-01564', 'foi-01565', 'foi-01566', 'foi-01567', 'foi-01568', 'foi-01569', 'foi-01572', 'foi-01576', 'foi-01577', 'foi-01578', 'foi-01579', 'foi-01580', 'foi-01582', 'foi-01583', 'foi-01584', 'foi-01585', 'foi-01586', 'foi-01587', 'foi-01588', 'foi-01591', 'foi-01592', 'foi-01593', 'foi-015939', 'foi-01594', 'foi-01595', 'foi-01596', 'foi-01597', 'foi-01599', 'foi-01600', 'foi-01601', 'foi-01602', 'foi-01603', 'foi-01605', 'foi-01606', 'foi-01607', 'foi-01608', 'foi-01609', 'foi-01610', 'foi-01611', 'foi-01612', 'foi-01619', 'foi-01622', 'foi-01624', 'foi-01625', 'foi-01626', 'foi-01627', 'foi-01628', 'foi-01629', 'foi-01630', 'foi-01631', 'foi-01632', 'foi-01633', 'foi-01634', 'foi-01635', 'foi-01637', 'foi-01639', 'foi-01642', 'foi-01643', 'foi-01644', 'foi-01645', 'foi-01646', 'foi-01647', 'foi-01648', 'foi-01649', 'foi-01650', 'foi-01651', 'foi-01655', 'foi-01657', 'foi-01658', 'foi-01659', 'foi-01660', 'foi-01661', 'foi-01662', 'foi-01663', 'foi-01664', 'foi-01665', 'foi-01666', 'foi-01667', 'foi-01668', 'foi-01669', 'foi-01670', 'foi-01671', 'foi-01673', 'foi-01674', 'foi-01675', 'foi-01676', 'foi-01677', 'foi-01678', 'foi-01680', 'foi-01681', 'foi-01683', 'foi-01686', 'foi-01688', 'foi-01691', 'foi-01692', 'foi-01693', 'foi-01694', 'foi-01695', 'foi-01696', 'foi-01697', 'foi-01699', 'foi-01701', 'foi-01702', 'foi-01703', 'foi-01704', 'foi-01706', 'foi-01707', 'foi-01710', 'foi-01711', 'foi-01712', 'foi-01713', 'foi-01714', 'foi-01715', 'foi-01716', 'foi-01717', 'foi-01718', 'foi-01722', 'foi-01723', 'foi-01724', 'foi-01727', 'foi-01729', 'foi-01730', 'foi-01731', 'foi-01732', 'foi-01733', 'foi-01734', 'foi-01737', 'foi-01738', 'foi-01741', 'foi-01742', 'foi-01743', 'foi-01744', 'foi-01745', 'foi-01746', 'foi-01747', 'foi-01749', 'foi-01750', 'foi-01752', 'foi-01753', 'foi-01754', 'foi-01755', 'foi-01756', 'foi-01757', 'foi-01758', 'foi-01760', 'foi-01762', 'foi-01763', 'foi-01771', 'foi-01772', 'foi-01773', 'foi-01774', 'foi-01775', 'foi-01776', 'foi-01777', 'foi-01778', 'foi-01779', 'foi-01780', 'foi-01781', 'foi-01782', 'foi-01783', 'foi-01784', 'foi-01786', 'foi-01787', 'foi-01788', 'foi-01789', 'foi-01790', 'foi-01791', 'foi-01792', 'foi-01793', 'foi-01794', 'foi-01795', 'foi-01797', 'foi-01798', 'foi-01799', 'foi-01800', 'foi-01801', 'foi-01802', 'foi-01803', 'foi-01804', 'foi-01807', 'foi-01808', 'foi-01809', 'foi-01810', 'foi-018101', 'foi-01811', 'foi-01812', 'foi-01813', 'foi-01815', 'foi-01816', 'foi-01817', 'foi-01818', 'foi-01822', 'foi-01823', 'foi-01824', 'foi-01825', 'foi-01826', 'foi-01828', 'foi-01829', 'foi-01830', 'foi-01831', 'foi-01832', 'foi-01834', 'foi-01837', 'foi-01838', 'foi-01839', 'foi-01840', 'foi-01841', 'foi-01842', 'foi-01843', 'foi-01844', 'foi-01845', 'foi-01846', 'foi-01847', 'foi-01848', 'foi-01849', 'foi-01850', 'foi-01851', 'foi-01852', 'foi-01853', 'foi-01854', 'foi-01855', 'foi-01856', 'foi-01857', 'foi-01858', 'foi-01859', 'foi-01860', 'foi-01862', 'foi-01863', 'foi-01864', 'foi-01866', 'foi-01867', 'foi-01868', 'foi-01869', 'foi-01870', 'foi-01871', 'foi-01872', 'foi-01873', 'foi-01874', 'foi-01875', 'foi-01876', 'foi-01877', 'foi-01878', 'foi-01879', 'foi-01881', 'foi-01882', 'foi-01883', 'foi-01884', 'foi-01885', 'foi-01887', 'foi-01889', 'foi-01893', 'foi-01895', 'foi-01896', 'foi-01897', 'foi-01898', 'foi-01899', 'foi-01900', 'foi-01901', 'foi-01902', 'foi-01905', 'foi-01906', 'foi-01908', 'foi-01909', 'foi-01910', 'foi-01911', 'foi-01913', 'foi-01914', 'foi-01915', 'foi-01916', 'foi-01917', 'foi-01918', 'foi-01919', 'foi-01920', 'foi-01921', 'foi-01922', 'foi-01923', 'foi-01924', 'foi-01925', 'foi-01926', 'foi-01927', 'foi-01928', 'foi-01929', 'foi-01930', 'foi-01931', 'foi-01932', 'foi-01933', 'foi-01934', 'foi-01935', 'foi-01936', 'foi-01937', 'foi-01938', 'foi-01939', 'foi-01940', 'foi-01941', 'foi-01942', 'foi-01943', 'foi-01944', 'foi-01945', 'foi-01946', 'foi-01947', 'foi-01948', 'foi-01949', 'foi-01950', 'foi-01952', 'foi-01953', 'foi-01954', 'foi-01955', 'foi-01956', 'foi-01957', 'foi-01958', 'foi-01959', 'foi-01960', 'foi-01962', 'foi-01963', 'foi-01964', 'foi-01965', 'foi-01966', 'foi-01967', 'foi-01971', 'foi-01972', 'foi-01973', 'foi-01974', 'foi-01975', 'foi-01976', 'foi-01977', 'foi-01978', 'foi-01979', 'foi-01980', 'foi-01981', 'foi-01983', 'foi-01985', 'foi-01986', 'foi-01987', 'foi-01988', 'foi-01989', 'foi-01991', 'foi-01993', 'foi-01995', 'foi-01996', 'foi-01997', 'foi-01998', 'foi-01999', 'foi-02001', 'foi-02002', 'foi-02003', 'foi-02005', 'foi-02007', 'foi-02008', 'foi-02009', 'foi-02010', 'foi-02011', 'foi-02013', 'foi-02014', 'foi-02015', 'foi-02016', 'foi-02018', 'foi-02019', 'foi-02020', 'foi-02021', 'foi-02022', 'foi-02023', 'foi-02024', 'foi-02026', 'foi-02027', 'foi-02028', 'foi-02029', 'foi-02030', 'foi-02032', 'foi-02033', 'foi-02034', 'foi-02035', 'foi-02037', 'foi-02039', 'foi-02040', 'foi-02041', 'foi-02045', 'foi-02046', 'foi-02047', 'foi-02048', 'foi-02049', 'foi-02050', 'foi-02052', 'foi-02053', 'foi-02055', 'foi-02056', 'foi-02057', 'foi-02058', 'foi-02060', 'foi-02061', 'foi-02062', 'foi-02063', 'foi-02064', 'foi-02066', 'foi-02069', 'foi-02070', 'foi-02071', 'foi-02072', 'foi-02073', 'foi-02075', 'foi-02077', 'foi-02078', 'foi-02079', 'foi-02080', 'foi-02081', 'foi-02082', 'foi-02086', 'foi-02088', 'foi-02089', 'foi-02090', 'foi-02091', 'foi-02094', 'foi-02095', 'foi-02096', 'foi-02097', 'foi-02098', 'foi-02099', 'foi-02100', 'foi-02101', 'foi-02102', 'foi-02103', 'foi-02105', 'foi-02106', 'foi-02107', 'foi-02108', 'foi-02109', 'foi-02112', 'foi-02113', 'foi-02115', 'foi-02117', 'foi-02118', 'foi-02120', 'foi-02121', 'foi-02122', 'foi-02123', 'foi-02124', 'foi-02125', 'foi-02126', 'foi-02129', 'foi-02130', 'foi-02132', 'foi-02133', 'foi-02135', 'foi-02137', 'foi-02138', 'foi-02140', 'foi-02142', 'foi-02143', 'foi-02144', 'foi-02145', 'foi-02146', 'foi-02147', 'foi-02148', 'foi-02151', 'foi-02152', 'foi-02153', 'foi-02154', 'foi-02155', 'foi-02156', 'foi-02157', 'foi-02158', 'foi-02159', 'foi-02160', 'foi-02161', 'foi-02163', 'foi-02164', 'foi-02165', 'foi-02169', 'foi-02170', 'foi-02171', 'foi-02172', 'foi-02173', 'foi-02176', 'foi-02177', 'foi-02178', 'foi-02179', 'foi-02180', 'foi-02182', 'foi-02183', 'foi-02184', 'foi-02185', 'foi-02187', 'foi-02188', 'foi-02189', 'foi-02190', 'foi-02191', 'foi-02192', 'foi-02194', 'foi-02195', 'foi-02197', 'foi-02199', 'foi-02200', 'foi-02201', 'foi-02202', 'foi-02203', 'foi-02204', 'foi-02206', 'foi-02207', 'foi-02208', 'foi-02209', 'foi-02210', 'foi-02211', 'foi-02214', 'foi-02218', 'foi-02219', 'foi-02220', 'foi-02222', 'foi-02224', 'foi-02225', 'foi-02226', 'foi-02227', 'foi-02228', 'foi-02230', 'foi-02232', 'foi-02233', 'foi-02234', 'foi-02235', 'foi-02236', 'foi-02238', 'foi-02239', 'foi-02240', 'foi-02241', 'foi-02242', 'foi-02243', 'foi-02245', 'foi-02246', 'foi-02247', 'foi-02248', 'foi-02249', 'foi-02250', 'foi-02251', 'foi-02252', 'foi-02253', 'foi-02255', 'foi-02257', 'foi-02258', 'foi-02259', 'foi-02260', 'foi-02261', 'foi-02263', 'foi-02264', 'foi-02265', 'foi-02266', 'foi-02267', 'foi-02268', 'foi-02269', 'foi-02270', 'foi-02271', 'foi-02272', 'foi-02273', 'foi-02279', 'foi-02280', 'foi-02281', 'foi-02283', 'foi-02284', 'foi-02286', 'foi-02287', 'foi-02289', 'foi-02291', 'foi-02292', 'foi-02293', 'foi-02294', 'foi-02295', 'foi-02297', 'foi-02298', 'foi-02299', 'foi-02302', 'foi-02303', 'foi-02304', 'foi-02305', 'foi-02306', 'foi-02307', 'foi-02309', 'foi-02310', 'foi-02311', 'foi-02312', 'foi-02313', 'foi-02315', 'foi-02316', 'foi-02317', 'foi-02318', 'foi-02319', 'foi-02320', 'foi-02321', 'foi-02322', 'foi-02323', 'foi-02326', 'foi-02327', 'foi-02329', 'foi-02330', 'foi-02331', 'foi-02332', 'foi-02333', 'foi-02334', 'foi-02335', 'foi-02336', 'foi-02337', 'foi-02338', 'foi-02339', 'foi-02341', 'foi-02342', 'foi-02343', 'foi-02344', 'foi-02347', 'foi-02348', 'foi-02349', 'foi-02350', 'foi-02351', 'foi-02352', 'foi-02353', 'foi-02355', 'foi-02356', 'foi-02357', 'foi-02358', 'foi-02359', 'foi-02360', 'foi-02361', 'foi-02362', 'foi-02363', 'foi-02364', 'foi-02366', 'foi-02367', 'foi-02368', 'foi-02369', 'foi-02370', 'foi-02372', 'foi-02374', 'foi-02375', 'foi-02378', 'foi-02379', 'foi-02381', 'foi-02382', 'foi-02383', 'foi-02385', 'foi-02386', 'foi-02387', 'foi-02388', 'foi-02389', 'foi-02390', 'foi-02392', 'foi-02393', 'foi-02394', 'foi-02395', 'foi-02396', 'foi-02397', 'foi-02399', 'foi-02400', 'foi-02402', 'foi-02403', 'foi-02405', 'foi-02406', 'foi-02407', 'foi-02408', 'foi-02409', 'foi-02410', 'foi-02411', 'foi-02415', 'foi-02416', 'foi-02417', 'foi-02418', 'foi-02419', 'foi-02420', 'foi-02423', 'foi-02425', 'foi-02426', 'foi-02427-response', 'foi-02428', 'foi-02429', 'foi-02430', 'foi-02431', 'foi-02432', 'foi-02433', 'foi-02434', 'foi-02435', 'foi-02436', 'foi-02437', 'foi-02438', 'foi-02439', 'foi-02440', 'foi-02441', 'foi-02442', 'foi-02445', 'foi-02446', 'foi-02447', 'foi-02448', 'foi-02449', 'foi-02450', 'foi-02451', 'foi-02452', 'foi-02453', 'foi-02455', 'foi-02457', 'foi-02458', 'foi-02460', 'foi-02461', 'foi-02462', 'foi-02463', 'foi-02466', 'foi-02467', 'foi-02473', 'foi-02474', 'foi-02475', 'foi-02476', 'foi-02477', 'foi-02480', 'foi-02484', 'foi-02485', 'foi-02486', 'foi-02487', 'foi-02490', 'foi-02491', 'foi-02492', 'foi-02497', 'foi-02498', 'foi-02499', 'foi-02500', 'foi-02501', 'foi-02502', 'foi-02503', 'foi-02505', 'foi-02506', 'foi-02507', 'foi-02508', 'foi-02509', 'foi-02510', 'foi-02511', 'foi-02513', 'foi-02515', 'foi-02516', 'foi-02518', 'foi-02519', 'foi-02520', 'foi-02521', 'foi-02522', 'foi-02523', 'foi-02524', 'foi-02525', 'foi-02526', 'foi-02527', 'foi-02528', 'foi-02529', 'foi-02530', 'foi-02531', 'foi-02532', 'foi-02534', 'foi-02535', 'foi-02537', 'foi-02538', 'foi-02541', 'foi-02544', 'foi-02546', 'foi-02547', 'foi-02548', 'foi-02549', 'foi-02550', 'foi-02551', 'foi-02552', 'foi-02553', 'foi-02554', 'foi-02555', 'foi-02556', 'foi-02559', 'foi-02560', 'foi-02561', 'foi-02562', 'foi-02563', 'foi-02564', 'foi-02565', 'foi-02567', 'foi-02571', 'foi-02573', 'foi-02574', 'foi-02576', 'foi-02577', 'foi-02579', 'foi-02581', 'foi-02582', 'foi-02583', 'foi-02584', 'foi-02585', 'foi-02586', 'foi-02588', 'foi-02592', 'foi-02593', 'foi-02594', 'foi-02595', 'foi-02596', 'foi-02597', 'foi-02598', 'foi-02599', 'foi-02602', 'foi-02603', 'foi-02605', 'foi-02606', 'foi-02607', 'foi-02608', 'foi-02609', 'foi-02611', 'foi-02612', 'foi-02613', 'foi-02614', 'foi-02615', 'foi-02616', 'foi-02617', 'foi-02618', 'foi-02619', 'foi-02620', 'foi-02621', 'foi-02623', 'foi-02624', 'foi-02625', 'foi-02626', 'foi-02628', 'foi-02629', 'foi-02630', 'foi-02632', 'foi-02633', 'foi-02634', 'foi-02635', 'foi-02636', 'foi-02637', 'foi-02638', 'foi-02639', 'foi-02640', 'foi-02641', 'foi-02642', 'foi-02643', 'foi-02645', 'foi-02646', 'foi-02648', 'foi-02651', 'foi-02652', 'foi-02653', 'foi-02654', 'foi-02655', 'foi-02656', 'foi-02657', 'foi-02658', 'foi-02661', 'foi-02662', 'foi-02663', 'foi-02664', 'foi-02667', 'foi-02668', 'foi-02669', 'foi-02670', 'foi-02671', 'foi-02672', 'foi-02673', 'foi-02674', 'foi-02675', 'foi-02677', 'foi-02679', 'foi-02680', 'foi-02681', 'foi-02682', 'foi-02684', 'foi-02685', 'foi-02688', 'foi-02689', 'foi-02691', 'foi-02692', 'foi-02693', 'foi-02694', 'foi-02695', 'foi-02697', 'foi-02698', 'foi-02699', 'foi-02700', 'foi-02701', 'foi-02702', 'foi-02703', 'foi-02704', 'foi-02705', 'foi-02706', 'foi-02707', 'foi-02708', 'foi-02710', 'foi-02711', 'foi-02712', 'foi-02713', 'foi-02715', 'foi-02718', 'foi-02719', 'foi-02721', 'foi-02722', 'foi-02723', 'foi-02724', 'foi-02725', 'foi-02726', 'foi-02727', 'foi-02728', 'foi-02729', 'foi-02730', 'foi-02731', 'foi-02732', 'foi-02733', 'foi-02738', 'foi-02739', 'foi-02740', 'foi-02741', 'foi-02742', 'foi-02743', 'foi-02745', 'foi-02746', 'foi-02748', 'foi-02749', 'foi-02751', 'foi-02753', 'foi-02754', 'foi-02755', 'foi-02756', 'foi-02757', 'foi-02758', 'foi-02759', 'foi-02760', 'foi-02761', 'foi-02762', 'foi-02763', 'foi-02765', 'foi-02766', 'foi-02768', 'foi-02769', 'foi-02770', 'foi-02771', 'foi-02772', 'foi-02774', 'foi-02775', 'foi-02776', 'foi-02777', 'foi-02778', 'foi-02779', 'foi-02780', 'foi-02781', 'foi-02782', 'foi-02784', 'foi-02785', 'foi-02786', 'foi-02787', 'foi-02788', 'foi-02789', 'foi-02790', 'foi-02791', 'foi-02792', 'foi-02793', 'foi-02794', 'foi-02795', 'foi-02796', 'foi-02797', 'foi-02798', 'foi-02799', 'foi-02800', 'foi-02802', 'foi-02803', 'foi-02804', 'foi-02806', 'foi-02808', 'foi-02811', 'foi-02812', 'foi-02813', 'foi-02814', 'foi-02815', 'foi-02816', 'foi-02818', 'foi-02819', 'foi-02820', 'foi-02821', 'foi-02823', 'foi-02824', 'foi-02826', 'foi-02827', 'foi-02828', 'foi-02829', 'foi-02830', 'foi-02831', 'foi-02833', 'foi-02834', 'foi-02835', 'foi-02836', 'foi-02837', 'foi-02838', 'foi-02839', 'foi-02840', 'foi-02842', 'foi-02843', 'foi-02844', 'foi-02845', 'foi-02846', 'foi-02847', 'foi-02849', 'foi-02850', 'foi-02851', 'foi-02853', 'foi-02854', 'foi-02855', 'foi-02856', 'foi-02857', 'foi-02859', 'foi-02861', 'foi-02864', 'foi-02869', 'foi-02871', 'foi-02872', 'foi-02873', 'foi-02874', 'foi-02875', 'foi-02876', 'foi-02877', 'foi-02878', 'foi-02879', 'foi-02881', 'foi-02882', 'foi-02884', 'foi-02886', 'foi-02887', 'foi-02888', 'foi-02889', 'foi-02890', 'foi-02891', 'foi-02894', 'foi-02896', 'foi-02897', 'foi-02901', 'foi-02902', 'foi-02905', 'foi-02906', 'foi-02908', 'foi-02909', 'foi-02914', 'foi-02918', 'foi-02919', 'foi-02921', 'foi-02922', 'foi-02927', 'foi-02929', 'foi-02932', 'foi-02933', 'foi-02935', 'foi-02936', 'foi-02938', 'foi-02944', 'foi-02951', 'foi-02952', 'foi-02954', 'foi-02959', 'foi-18005', 'foi-18062', 'foi-18076', 'foi-19119', 'foi-19158', 'foi-19161', 'foi-19162', 'foi-19167', 'foi-19173', 'foi-19174', 'foi-19177', 'foi-19181', 'foi-19192', 'foi-19193', 'foi-19200', 'foi-19205', 'foi-19208', 'foi-19210', 'foi-19214', 'foi-1969', 'foi-1990', 'foi-20213', 'foi-20215', 'foi-20225', 'foi-20227', 'foi-20235', 'foi-20237', 'foi-20241', 'foi-20242', 'foi-20243', 'foi-20245', 'foi-20246', 'foi-20247', 'foi-20248', 'foi-20249', 'foi-20251', 'foi-20253', 'foi-20256', 'foi-20257', 'foi-20264', 'foi-21263', 'foi-21266', 'foi-21267', 'foi-21268', 'foi-21269', 'foi-21270', 'foi-21271', 'foi-21273', 'foi-21276', 'foi-21278', 'foi-21279', 'foi-21280', 'foi-22276', 'foi-22277', 'foi-22278', 'foi-22280', 'foi-22281', 'foi-22283', 'foi-22290', 'foi-22291', 'foi-22295', 'foi-22296', 'foi-22298', 'foi-22300', 'foi-22302', 'foi-22303', 'foi-22304', 'foi-22305', 'foi-22307', 'foi-22309', 'foi-22310', 'foi-22313', 'foi-22314', 'foi-22315', 'foi-22318', 'foi-22320', 'foi-23316', 'foi-23317', 'foi-23320', 'foi-23322', 'foi-23323', 'foi-23324', 'foi-23325', 'foi-23327', 'foi-23334', 'foi-23338', 'foi-23340', 'foi-23341', 'foi-23344', 'foi-23345', 'foi-23346', 'foi-23347', 'foi-23350', 'foi-23354', 'foi-23356', 'foi-23357', 'foi-23358', 'foi-23359', 'foi-23363', 'foi-23365', 'foi-23366', 'foi-23368', 'foi-23371', 'foi-23372', 'foi-23374', 'foi-23375', 'foi-23376', 'foi-24378', 'foi-24380', 'foi-24381', 'foi-24382', 'foi-24383', 'foi-24384', 'foi-24385', 'foi-24387', 'foi-24389', 'foi-24391', 'foi-24392', 'foi-24393', 'foi-24394', 'foi-24396', 'foi-24399', 'foi-24405', 'foi-24407', 'foi-24408', 'foi-24409', 'foi-24410', 'foi-24411', 'foi-24413', 'foi-24414', 'foi-24416', 'foi-24417', 'foi-24418', 'foi-24420', 'foi-24422', 'foi-24425', 'foi-24427', 'foi-24429', 'foi-24430', 'foi-24431', 'foi-24432', 'foi-24434', 'foi-24435', 'foi-24436', 'foi-24437', 'foi-24438', 'foi-24439', 'foi-24440', 'foi-24441', 'foi-24442', 'foi-25438', 'foi-25439', 'foi-25440', 'foi-25445', 'foi-25446', 'foi-25447', 'foi-25448', 'foi-25450', 'foi-25454', 'foi-25456', 'foi-25457', 'foi-25458', 'foi-25459', 'foi-25460', 'foi-25462', 'foi-25463', 'foi-25464', 'foi-25465', 'foi-25466', 'foi-25467', 'foi-25468', 'foi-25470', 'foi-25471', 'foi-25472', 'foi-25475', 'foi-25476', 'foi-25479', 'foi-25480', 'foi-25481', 'foi-25482', 'foi-25484', 'foi-25485', 'foi-25486', 'foi-25487', 'foi-25488', 'foi-25489', 'foi-25490', 'foi-25493', 'foi-25495', 'foi-25496', 'foi-25499', 'foi-25500', 'foi-25502', 'foi-25503', 'foi-25504', 'foi-25505', 'foi-25506', 'foi-25508', 'foi-25509', 'foi-25512', 'foi-25513', 'foi-25514', 'foi-25516', 'foi-25517', 'foi-25518', 'foi-25520', 'foi-25522', 'foi-25525', 'foi-25526', 'foi-25528', 'foi-25530', 'foi-25535', 'foi-25537', 'foi-25539', 'foi-25541', 'foi-25542', 'foi-25543', 'foi-25544', 'foi-25545', 'foi-25546', 'foi-25548', 'foi-25549', 'foi-25553', 'foi2-5634', 'foi-2591', 'foi-26551', 'foi-26552', 'foi-26553', 'foi-26555', 'foi-26556', 'foi-26557', 'foi-26559', 'foi-26561', 'foi-26562', 'foi-26563', 'foi-26570', 'foi-26571', 'foi-26572', 'foi-26573', 'foi-26576', 'foi-26581', 'foi-26583', 'foi-26584', 'foi-26585', 'foi-26586', 'foi-26587', 'foi-26588', 'foi-26589', 'foi-26590', 'foi-26591', 'foi-26592', 'foi-26593', 'foi-26594', 'foi-26595', 'foi-26596', 'foi-26598', 'foi-26601', 'foi-26602', 'foi-26603', 'foi-26604', 'foi-26605', 'foi-27601', 'foi-27603', 'foi-27604', 'foi-27607', 'foi-27612', 'foi-27615', 'foi-27616', 'foi-27617', 'foi-27618', 'foi-27619', 'foi-27621', 'foi-27622', 'foi-27624', 'foi-27626', 'foi-27628', 'foi-27637', 'foi-27642', 'foi-27644', 'foi-27645', 'foi-27646', 'foi-27648', 'foi-27650', 'foi-27653', 'foi-27659', 'foi-27660', 'foi-27662', 'foi-27663', 'foi-27664', 'foi-27665', 'foi-27667', 'foi-27668', 'foi-27669', 'foi-27670', 'foi-27671', 'foi-27672', 'foi-27679', 'foi-27681', 'foi-27682', 'foi-27684', 'foi-27685', 'foi-27686', 'foi-27687', 'foi-27688', 'foi-27689', 'foi-27690', 'foi-27691', 'foi-27692', 'foi-27693', 'foi-27694', 'foi-27696', 'foi-27698', 'foi-27699', 'foi-27701', 'foi-27702', 'foi-27703', 'foi-27704', 'foi-27706', 'foi-27707', 'foi-27709', 'foi-27712', 'foi-27713', 'foi-27714', 'foi-27715', 'foi-27716', 'foi-27717', 'foi-27718', 'foi-27720', 'foi-27721', 'foi-27722', 'foi-27725', 'foi-27726', 'foi-27727', 'foi-27731', 'foi-27734', 'foi-27735', 'foi-27736', 'foi-27737', 'foi-27738', 'foi-27739', 'foi-27741', 'foi-27742', 'foi-27745', 'foi-27747', 'foi-27749', 'foi-27750', 'foi-27752', 'foi-27753', 'foi-27754', 'foi-27755', 'foi-27756', 'foi-27757', 'foi-27759', 'foi-27760', 'foi-27762', 'foi-27791', 'foi-27793', 'foi-27795', 'foi-27796', 'foi-27800', 'foi-27801', 'foi-27802', 'foi-27805', 'foi-27806', 'foi-27807', 'foi-27808', 'foi-27810', 'foi-27811', 'foi-27812', 'foi-27815', 'foi-28808', 'foi-2881', 'foi-28811', 'foi-28812', 'foi-28813', 'foi-28814', 'foi-28815', 'foi-28817', 'foi-28821', 'foi-28822', 'foi-28823', 'foi-28825', 'foi-28827', 'foi-28828', 'foi-28829', 'foi-28830', 'foi-28831', 'foi-28832', 'foi-28835', 'foi-28836', 'foi-28839', 'foi-28841', 'foi-28843', 'foi-28845', 'foi-28847', 'foi-28849', 'foi-28851', 'foi-28852', 'foi-28853', 'foi-28854', 'foi-28855', 'foi-28857', 'foi-28858', 'foi-28859', 'foi-28865', 'foi-28866', 'foi-28867', 'foi-28868', 'foi-28870', 'foi-28872', 'foi-28875', 'foi-28878', 'foi-28879', 'foi-28883', 'foi-28884', 'foi-28886', 'foi-29885', 'foi-29886', 'foi-29887', 'foi-29890', 'foi-29891', 'foi-29892', 'foi-29896', 'foi-29899', 'foi-29900', 'foi-29907', 'foi-29910', 'foi-29911', 'foi-29912', 'foi-29914', 'foi-29915', 'foi-29916', 'foi-29918', 'foi-29921', 'foi-29922', 'foi-29923', 'foi-29925', 'foi-29927', 'foi-29934', 'foi-29936', 'foi-29938', 'foi-29939', 'foi-29941', 'foi-29945', 'foi-29946', 'foi-29950', 'foi-30951', 'foi-30952', 'foi-30953', 'foi-30955', 'foi-30956', 'foi-30957', 'foi-30959', 'foi-30960', 'foi-30961', 'foi-30964', 'foi-30965', 'foi-30966', 'foi-30967', 'foi-30969', 'foi-30972', 'foi-30973', 'foi-30976', 'foi-30978', 'foi-30979', 'foi-30980', 'foi-30981', 'foi-30982', 'foi-30983', 'foi-30988', 'foi-30989', 'foi-30990', 'foi-30991', 'foi-30993', 'foi-30994', 'foi-30996', 'foi-30997', 'foi-30998', 'foi-31000', 'foi-31001', 'foi-31002', 'foi-31004', 'foi-32003', 'foi-32004', 'foi-32005', 'foi-32009', 'foi-32010', 'foi-32011', 'foi-32012', 'foi-32013', 'foi-32015', 'foi-32017', 'foi-32018', 'foi-32019', 'foi-32020', 'foi-32021', 'foi-32022', 'foi-32023', 'foi-32024', 'foi-32027', 'foi-32032', 'foi-32033', 'foi-32037', 'foi-32038', 'foi-32039', 'foi-32040', 'foi-32043', 'foi-32044', 'foi-32046', 'foi-32047', 'foi-32048', 'foi-32051', 'foi-32053', 'foi-32054', 'foi-32055', 'foi-32056', 'foi-32059', 'foi-32062', 'foi-32063', 'foi-32064', 'foi-32065', 'foi-32066', 'foi-32067', 'foi-32069', 'foi-32070', 'foi-32071', 'foi-32073', 'foi-32076', 'foi-32077', 'foi-32079', 'foi-32080', 'foi-32082', 'foi-32086', 'foi-32088', 'foi-32089', 'foi-32090', 'foi-32091', 'foi-32096', 'foi-9995', 'foi-9996', 'foi-9997', 'foi-9998', 'foi-9999', 'foia-response-26555', 'foi-request-19155', 'foi-request-final-response-26550', 'foi-request-final-response-26554', 'hormone-replacement-therapy-prescription-prepayment-certificate-hrt-ppc-volumes', 'hospital-prescribing-dispensed-in-the-community', 'immigration-health-surcharge-ihs-health-and-care-reimbursement-scheme-performance-data', 'immigration-health-surcharge-ihs-students-reimbursement-scheme-performance-data', 'national-uda-by-performer-for-financial-years-2016-2024', 'nhsbsa-commercial-pipeline', 'nhs-volunteering-find-and-apply-service-organisation-users-key-performance-indicators', 'nhs-volunteering-find-and-apply-service-volunteer-users-key-performance-indicators', 'opendata-nhsbsa-net-dataset-foi-25455', 'open-data-portal-usage', 'overseas-healthcare-services-cost-recovery-key-performance-indicators', 'pharmacy-contract-fp57-refunds', 'pharmacy-openings-and-closures', 'pharmacy-quality-scheme-data-2022-23', 'pharmacy-quality-scheme-data-2023-24', 'prescriber-details', 'prescription-cost-analysis-pca-annual-statistics', 'prescription-cost-analysis-pca-monthly-data', 'regional-uda-by-performer', 'scottish-dispensed-data', 'secondary-care-medicines-data', 'secondary-care-medicines-data-indicative-price', 'vdps-covid-19', 'vdps-non-covid-19']\n"
     ]
    }
   ],
   "source": [
    "print(datasets_response['result'])"
   ]
  },
  {
   "cell_type": "markdown",
   "metadata": {},
   "source": [
    "For this example we're interested in the English Prescribing Dataset (EPD).\n",
    "We know the name of this data-set so can set this manually, or access it \n",
    "from datasets_response."
   ]
  },
  {
   "cell_type": "code",
   "execution_count": 5,
   "metadata": {},
   "outputs": [],
   "source": [
    "dataset_id = \"english-prescribing-data-epd\""
   ]
  },
  {
   "cell_type": "markdown",
   "metadata": {},
   "source": [
    "# 4. API calls for single month"
   ]
  },
  {
   "cell_type": "markdown",
   "metadata": {},
   "source": [
    "Define the parameters for the SQL query"
   ]
  },
  {
   "cell_type": "code",
   "execution_count": 6,
   "metadata": {},
   "outputs": [],
   "source": [
    "resource_name = 'EPD_202001' # For EPD resources are named EPD_YYYYMM\n",
    "pco_code = '13T00' # Newcastle Gateshead CCG\n",
    "bnf_chemical_substance = '0407010H0' # Paracetamol"
   ]
  },
  {
   "cell_type": "markdown",
   "metadata": {},
   "source": [
    "Build SQL query (WHERE criteria should be enclosed in single quotes)"
   ]
  },
  {
   "cell_type": "code",
   "execution_count": 7,
   "metadata": {},
   "outputs": [],
   "source": [
    "single_month_query = \"SELECT * \" \\\n",
    "                     f\"FROM `{resource_name}` \" \\\n",
    "                     f\"WHERE pco_code = '{pco_code}' \" \\\n",
    "                     f\"AND bnf_chemical_substance = '{bnf_chemical_substance}'\""
   ]
  },
  {
   "cell_type": "markdown",
   "metadata": {},
   "source": [
    "Build API call"
   ]
  },
  {
   "cell_type": "code",
   "execution_count": 8,
   "metadata": {},
   "outputs": [],
   "source": [
    "single_month_api_call = f\"{base_endpoint}\" \\\n",
    "                        f\"{action_method}\" \\\n",
    "                        \"resource_id=\" \\\n",
    "                        f\"{resource_name}\" \\\n",
    "                        \"&\" \\\n",
    "                        \"sql=\" \\\n",
    "                        f\"{urllib.parse.quote(single_month_query)}\" # Encode spaces in the url"
   ]
  },
  {
   "cell_type": "markdown",
   "metadata": {},
   "source": [
    "Grab the response JSON as a list"
   ]
  },
  {
   "cell_type": "code",
   "execution_count": 10,
   "metadata": {},
   "outputs": [],
   "source": [
    "single_month_response = requests.get(single_month_api_call).json()"
   ]
  },
  {
   "cell_type": "markdown",
   "metadata": {},
   "source": [
    "Extract records in the response to a dataframe"
   ]
  },
  {
   "cell_type": "code",
   "execution_count": 11,
   "metadata": {},
   "outputs": [],
   "source": [
    "single_month_df  = pd.json_normalize(single_month_response['result']['result']['records'])"
   ]
  },
  {
   "cell_type": "markdown",
   "metadata": {},
   "source": [
    "Lets have a quick look at the data"
   ]
  },
  {
   "cell_type": "code",
   "execution_count": 12,
   "metadata": {},
   "outputs": [
    {
     "data": {
      "text/html": [
       "<div>\n",
       "<style scoped>\n",
       "    .dataframe tbody tr th:only-of-type {\n",
       "        vertical-align: middle;\n",
       "    }\n",
       "\n",
       "    .dataframe tbody tr th {\n",
       "        vertical-align: top;\n",
       "    }\n",
       "\n",
       "    .dataframe thead th {\n",
       "        text-align: right;\n",
       "    }\n",
       "</style>\n",
       "<table border=\"1\" class=\"dataframe\">\n",
       "  <thead>\n",
       "    <tr style=\"text-align: right;\">\n",
       "      <th></th>\n",
       "      <th>YEAR_MONTH</th>\n",
       "      <th>REGIONAL_OFFICE_NAME</th>\n",
       "      <th>REGIONAL_OFFICE_CODE</th>\n",
       "      <th>AREA_TEAM_NAME</th>\n",
       "      <th>AREA_TEAM_CODE</th>\n",
       "      <th>PCO_NAME</th>\n",
       "      <th>PCO_CODE</th>\n",
       "      <th>PRACTICE_NAME</th>\n",
       "      <th>PRACTICE_CODE</th>\n",
       "      <th>ADDRESS_1</th>\n",
       "      <th>...</th>\n",
       "      <th>BNF_CODE</th>\n",
       "      <th>BNF_DESCRIPTION</th>\n",
       "      <th>BNF_CHAPTER_PLUS_CODE</th>\n",
       "      <th>QUANTITY</th>\n",
       "      <th>ITEMS</th>\n",
       "      <th>TOTAL_QUANTITY</th>\n",
       "      <th>ADQUSAGE</th>\n",
       "      <th>NIC</th>\n",
       "      <th>ACTUAL_COST</th>\n",
       "      <th>UNIDENTIFIED</th>\n",
       "    </tr>\n",
       "  </thead>\n",
       "  <tbody>\n",
       "    <tr>\n",
       "      <th>0</th>\n",
       "      <td>202001</td>\n",
       "      <td>NORTH OF ENGLAND</td>\n",
       "      <td>Y54</td>\n",
       "      <td>CUMBRIA,NORTHUMB,TYNE &amp; WEAR AREA</td>\n",
       "      <td>Q49</td>\n",
       "      <td>NEWCASTLE GATESHEAD CCG</td>\n",
       "      <td>13T00</td>\n",
       "      <td>NEWCASTLE GP IN MOLINEUX WIC</td>\n",
       "      <td>Y05671</td>\n",
       "      <td>MOLINEUX WALK-IN CENTRE</td>\n",
       "      <td>...</td>\n",
       "      <td>0407010H0AAA7A7</td>\n",
       "      <td>Paracetamol 120mg/5ml oral solution paediatric...</td>\n",
       "      <td>04: Central Nervous System</td>\n",
       "      <td>100.0</td>\n",
       "      <td>1</td>\n",
       "      <td>100.0</td>\n",
       "      <td>0.80000</td>\n",
       "      <td>1.19</td>\n",
       "      <td>1.21887</td>\n",
       "      <td>False</td>\n",
       "    </tr>\n",
       "    <tr>\n",
       "      <th>1</th>\n",
       "      <td>202001</td>\n",
       "      <td>NORTH OF ENGLAND</td>\n",
       "      <td>Y54</td>\n",
       "      <td>CUMBRIA,NORTHUMB,TYNE &amp; WEAR AREA</td>\n",
       "      <td>Q49</td>\n",
       "      <td>NEWCASTLE GATESHEAD CCG</td>\n",
       "      <td>13T00</td>\n",
       "      <td>PONTELAND RD WIC</td>\n",
       "      <td>Y03375</td>\n",
       "      <td>PONTELAND RD WIC</td>\n",
       "      <td>...</td>\n",
       "      <td>0407010H0AAACAC</td>\n",
       "      <td>Paracetamol 250mg/5ml oral suspension</td>\n",
       "      <td>04: Central Nervous System</td>\n",
       "      <td>200.0</td>\n",
       "      <td>1</td>\n",
       "      <td>200.0</td>\n",
       "      <td>3.33333</td>\n",
       "      <td>4.16</td>\n",
       "      <td>3.88041</td>\n",
       "      <td>False</td>\n",
       "    </tr>\n",
       "    <tr>\n",
       "      <th>2</th>\n",
       "      <td>202001</td>\n",
       "      <td>NORTH OF ENGLAND</td>\n",
       "      <td>Y54</td>\n",
       "      <td>CUMBRIA,NORTHUMB,TYNE &amp; WEAR AREA</td>\n",
       "      <td>Q49</td>\n",
       "      <td>NEWCASTLE GATESHEAD CCG</td>\n",
       "      <td>13T00</td>\n",
       "      <td>WALK-IN CENTRE GP IN-HOURS</td>\n",
       "      <td>Y04106</td>\n",
       "      <td>WALK-IN CENTRE</td>\n",
       "      <td>...</td>\n",
       "      <td>0407010H0AAA7A7</td>\n",
       "      <td>Paracetamol 120mg/5ml oral solution paediatric...</td>\n",
       "      <td>04: Central Nervous System</td>\n",
       "      <td>100.0</td>\n",
       "      <td>1</td>\n",
       "      <td>100.0</td>\n",
       "      <td>0.80000</td>\n",
       "      <td>1.19</td>\n",
       "      <td>1.21887</td>\n",
       "      <td>False</td>\n",
       "    </tr>\n",
       "    <tr>\n",
       "      <th>3</th>\n",
       "      <td>202001</td>\n",
       "      <td>NORTH OF ENGLAND</td>\n",
       "      <td>Y54</td>\n",
       "      <td>CUMBRIA,NORTHUMB,TYNE &amp; WEAR AREA</td>\n",
       "      <td>Q49</td>\n",
       "      <td>NEWCASTLE GATESHEAD CCG</td>\n",
       "      <td>13T00</td>\n",
       "      <td>WALK-IN CENTRE GP IN-HOURS</td>\n",
       "      <td>Y04106</td>\n",
       "      <td>WALK-IN CENTRE</td>\n",
       "      <td>...</td>\n",
       "      <td>0407010H0AABGBG</td>\n",
       "      <td>Paracetamol 250mg/5ml oral suspension sugar free</td>\n",
       "      <td>04: Central Nervous System</td>\n",
       "      <td>80.0</td>\n",
       "      <td>1</td>\n",
       "      <td>80.0</td>\n",
       "      <td>1.33333</td>\n",
       "      <td>1.07</td>\n",
       "      <td>1.10730</td>\n",
       "      <td>False</td>\n",
       "    </tr>\n",
       "    <tr>\n",
       "      <th>4</th>\n",
       "      <td>202001</td>\n",
       "      <td>NORTH OF ENGLAND</td>\n",
       "      <td>Y54</td>\n",
       "      <td>CUMBRIA,NORTHUMB,TYNE &amp; WEAR AREA</td>\n",
       "      <td>Q49</td>\n",
       "      <td>NEWCASTLE GATESHEAD CCG</td>\n",
       "      <td>13T00</td>\n",
       "      <td>ST OSWALDS PALLIATIVE CARE</td>\n",
       "      <td>Y00505</td>\n",
       "      <td>ST OSWALDS HOSPICE</td>\n",
       "      <td>...</td>\n",
       "      <td>0407010H0AAACAC</td>\n",
       "      <td>Paracetamol 250mg/5ml oral suspension</td>\n",
       "      <td>04: Central Nervous System</td>\n",
       "      <td>500.0</td>\n",
       "      <td>1</td>\n",
       "      <td>500.0</td>\n",
       "      <td>8.33333</td>\n",
       "      <td>10.40</td>\n",
       "      <td>9.68241</td>\n",
       "      <td>False</td>\n",
       "    </tr>\n",
       "  </tbody>\n",
       "</table>\n",
       "<p>5 rows × 26 columns</p>\n",
       "</div>"
      ],
      "text/plain": [
       "   YEAR_MONTH REGIONAL_OFFICE_NAME REGIONAL_OFFICE_CODE  \\\n",
       "0      202001     NORTH OF ENGLAND                  Y54   \n",
       "1      202001     NORTH OF ENGLAND                  Y54   \n",
       "2      202001     NORTH OF ENGLAND                  Y54   \n",
       "3      202001     NORTH OF ENGLAND                  Y54   \n",
       "4      202001     NORTH OF ENGLAND                  Y54   \n",
       "\n",
       "                      AREA_TEAM_NAME AREA_TEAM_CODE                 PCO_NAME  \\\n",
       "0  CUMBRIA,NORTHUMB,TYNE & WEAR AREA            Q49  NEWCASTLE GATESHEAD CCG   \n",
       "1  CUMBRIA,NORTHUMB,TYNE & WEAR AREA            Q49  NEWCASTLE GATESHEAD CCG   \n",
       "2  CUMBRIA,NORTHUMB,TYNE & WEAR AREA            Q49  NEWCASTLE GATESHEAD CCG   \n",
       "3  CUMBRIA,NORTHUMB,TYNE & WEAR AREA            Q49  NEWCASTLE GATESHEAD CCG   \n",
       "4  CUMBRIA,NORTHUMB,TYNE & WEAR AREA            Q49  NEWCASTLE GATESHEAD CCG   \n",
       "\n",
       "  PCO_CODE                 PRACTICE_NAME PRACTICE_CODE  \\\n",
       "0    13T00  NEWCASTLE GP IN MOLINEUX WIC        Y05671   \n",
       "1    13T00              PONTELAND RD WIC        Y03375   \n",
       "2    13T00    WALK-IN CENTRE GP IN-HOURS        Y04106   \n",
       "3    13T00    WALK-IN CENTRE GP IN-HOURS        Y04106   \n",
       "4    13T00    ST OSWALDS PALLIATIVE CARE        Y00505   \n",
       "\n",
       "                 ADDRESS_1  ...         BNF_CODE  \\\n",
       "0  MOLINEUX WALK-IN CENTRE  ...  0407010H0AAA7A7   \n",
       "1         PONTELAND RD WIC  ...  0407010H0AAACAC   \n",
       "2           WALK-IN CENTRE  ...  0407010H0AAA7A7   \n",
       "3           WALK-IN CENTRE  ...  0407010H0AABGBG   \n",
       "4       ST OSWALDS HOSPICE  ...  0407010H0AAACAC   \n",
       "\n",
       "                                     BNF_DESCRIPTION  \\\n",
       "0  Paracetamol 120mg/5ml oral solution paediatric...   \n",
       "1              Paracetamol 250mg/5ml oral suspension   \n",
       "2  Paracetamol 120mg/5ml oral solution paediatric...   \n",
       "3   Paracetamol 250mg/5ml oral suspension sugar free   \n",
       "4              Paracetamol 250mg/5ml oral suspension   \n",
       "\n",
       "        BNF_CHAPTER_PLUS_CODE QUANTITY ITEMS TOTAL_QUANTITY ADQUSAGE    NIC  \\\n",
       "0  04: Central Nervous System    100.0     1          100.0  0.80000   1.19   \n",
       "1  04: Central Nervous System    200.0     1          200.0  3.33333   4.16   \n",
       "2  04: Central Nervous System    100.0     1          100.0  0.80000   1.19   \n",
       "3  04: Central Nervous System     80.0     1           80.0  1.33333   1.07   \n",
       "4  04: Central Nervous System    500.0     1          500.0  8.33333  10.40   \n",
       "\n",
       "  ACTUAL_COST  UNIDENTIFIED  \n",
       "0     1.21887         False  \n",
       "1     3.88041         False  \n",
       "2     1.21887         False  \n",
       "3     1.10730         False  \n",
       "4     9.68241         False  \n",
       "\n",
       "[5 rows x 26 columns]"
      ]
     },
     "execution_count": 12,
     "metadata": {},
     "output_type": "execute_result"
    }
   ],
   "source": [
    "single_month_df.head()"
   ]
  },
  {
   "cell_type": "markdown",
   "metadata": {},
   "source": [
    "You can use any of the fields listed in the data-set within the SQL query as \n",
    "part of the select or in the where clause in order to filter.\n",
    "\n",
    "Information on the fields present in a data-set and an accompanying data \n",
    "dictionary can be found on the page for the relevant data-set on the Open Data \n",
    "Portal."
   ]
  },
  {
   "cell_type": "markdown",
   "metadata": {},
   "source": [
    "# 5. API calls for data for multiple months"
   ]
  },
  {
   "cell_type": "markdown",
   "metadata": {},
   "source": [
    "Now that you have extracted data for a single month, you may want to get the \n",
    "data for several months, or a whole year.\n",
    "\n",
    "Firstly we need to get a list of all of the names and resource IDs for every \n",
    "EPD file. We therefore extract the metadata for the EPD dataset."
   ]
  },
  {
   "cell_type": "code",
   "execution_count": 13,
   "metadata": {},
   "outputs": [],
   "source": [
    "metadata_repsonse  = requests.get(f\"{base_endpoint}\" \\\n",
    "                                  f\"{package_show_method}\" \\\n",
    "                                  f\"{dataset_id}\").json()"
   ]
  },
  {
   "cell_type": "markdown",
   "metadata": {},
   "source": [
    "Resource names and IDs are kept within the resources table returned from the \n",
    "package_show_method call."
   ]
  },
  {
   "cell_type": "code",
   "execution_count": 14,
   "metadata": {},
   "outputs": [],
   "source": [
    "resources_table  = pd.json_normalize(metadata_repsonse['result']['resources'])"
   ]
  },
  {
   "cell_type": "markdown",
   "metadata": {},
   "source": [
    "We only want data for one calendar year, to do this we need to look at the \n",
    "name of the data-set to identify the year. For this example we're looking at \n",
    "2020."
   ]
  },
  {
   "cell_type": "code",
   "execution_count": 15,
   "metadata": {},
   "outputs": [],
   "source": [
    "resource_name_list = resources_table[resources_table['name'].str.contains('2020')]['name']"
   ]
  },
  {
   "cell_type": "markdown",
   "metadata": {},
   "source": [
    "## 5.1. For loop"
   ]
  },
  {
   "cell_type": "markdown",
   "metadata": {},
   "source": [
    "We can do this with a for loop that makes all of the individual API calls for \n",
    "you and combines the data together into one dataframe\n",
    "\n",
    "Initialise dataframe that data will be saved to"
   ]
  },
  {
   "cell_type": "code",
   "execution_count": 16,
   "metadata": {},
   "outputs": [],
   "source": [
    "for_loop_df = pd.DataFrame()"
   ]
  },
  {
   "cell_type": "markdown",
   "metadata": {},
   "source": [
    "As each individual month of EPD data is so large it will be unlikely that your \n",
    "local system will have enough RAM to hold a full year's worth of data in \n",
    "memory. Therefore we will only look at a single CCG and chemical substance as \n",
    "we did previously\n",
    "\n",
    "Loop through resource_name_list and make call to API to extract data, then \n",
    "bind each month together to make a single data-set"
   ]
  },
  {
   "cell_type": "markdown",
   "metadata": {},
   "source": [
    "Lets have a quick look at the data"
   ]
  },
  {
   "cell_type": "code",
   "execution_count": null,
   "metadata": {},
   "outputs": [],
   "source": [
    "for_loop_df.head()"
   ]
  },
  {
   "cell_type": "markdown",
   "metadata": {},
   "source": [
    "## 5.2. Async"
   ]
  },
  {
   "cell_type": "markdown",
   "metadata": {},
   "source": [
    "We can call the API asynchronously and this will result in an approx 10x speed \n",
    "increase over a for loop for large resource_names by vectorising our approach.\n",
    "\n",
    "Construct the SQL query as a function"
   ]
  },
  {
   "cell_type": "code",
   "execution_count": null,
   "metadata": {},
   "outputs": [],
   "source": [
    "def async_query(resource_name):\n",
    "    query = \"SELECT * \" \\\n",
    "            f\"FROM `{resource_name}` \" \\\n",
    "            f\"WHERE pco_code = '{pco_code}' \" \\\n",
    "            f\"AND bnf_chemical_substance = '{bnf_chemical_substance}'\"\n",
    "    return(query)"
   ]
  },
  {
   "cell_type": "markdown",
   "metadata": {},
   "source": [
    "Create the API calls"
   ]
  },
  {
   "cell_type": "code",
   "execution_count": null,
   "metadata": {},
   "outputs": [],
   "source": [
    "async_api_calls = []\n",
    "for x in resource_name_list:\n",
    "    async_api_calls.append(\n",
    "        f\"{base_endpoint}\" \\\n",
    "        f\"{action_method}\" \\\n",
    "        \"resource_id=\" \\\n",
    "        f\"{x}\" \\\n",
    "        \"&\" \\\n",
    "        \"sql=\" \\\n",
    "        f\"{urllib.parse.quote(async_query(x))}\" # Encode spaces in the url \n",
    "    )"
   ]
  },
  {
   "cell_type": "markdown",
   "metadata": {},
   "source": [
    "Use grequests to get the results"
   ]
  },
  {
   "cell_type": "code",
   "execution_count": null,
   "metadata": {},
   "outputs": [],
   "source": [
    "dd = (grequests.get(u) for u in async_api_calls)\n",
    "res = grequests.map(dd)"
   ]
  },
  {
   "cell_type": "markdown",
   "metadata": {},
   "source": [
    "Check that everything is a success"
   ]
  },
  {
   "cell_type": "code",
   "execution_count": null,
   "metadata": {},
   "outputs": [],
   "source": [
    "for x in res:\n",
    "    if x.ok:\n",
    "        print(True)\n",
    "    else:\n",
    "        print(False)"
   ]
  },
  {
   "cell_type": "markdown",
   "metadata": {},
   "source": [
    "Parse the output into a list of dataframes and concatenate the results"
   ]
  },
  {
   "cell_type": "code",
   "execution_count": null,
   "metadata": {},
   "outputs": [],
   "source": [
    "async_df = pd.DataFrame()\n",
    "\n",
    "for x in res:\n",
    "    # Grab the response JSON as a temporary list\n",
    "    tmp_response = x.json()\n",
    "    \n",
    "    # Extract records in the response to a temporary dataframe\n",
    "    tmp_df = pd.json_normalize(tmp_response['result']['result']['records'])\n",
    "    \n",
    "    # Bind the temporary data to the main dataframe\n",
    "    async_df = async_df.append(tmp_df)"
   ]
  },
  {
   "cell_type": "markdown",
   "metadata": {},
   "source": [
    "Lets have a quick look at the data"
   ]
  },
  {
   "cell_type": "code",
   "execution_count": null,
   "metadata": {},
   "outputs": [],
   "source": [
    "async_df.head()"
   ]
  },
  {
   "cell_type": "markdown",
   "metadata": {},
   "source": [
    "# 6. Export the data"
   ]
  },
  {
   "cell_type": "code",
   "execution_count": null,
   "metadata": {},
   "outputs": [],
   "source": [
    "single_month_df.to_csv('single_month.csv')\n",
    "for_loop_df.to_csv('for_loop.csv')\n",
    "async_df.to_csv('async.csv')"
   ]
  },
  {
   "cell_type": "code",
   "execution_count": 2,
   "metadata": {},
   "outputs": [
    {
     "name": "stdout",
     "output_type": "stream",
     "text": [
      "Collecting grequests\n",
      "  Downloading grequests-0.7.0-py2.py3-none-any.whl.metadata (1.3 kB)\n",
      "Collecting gevent (from grequests)\n",
      "  Downloading gevent-25.5.1-cp311-cp311-win_amd64.whl.metadata (14 kB)\n",
      "Requirement already satisfied: requests in c:\\users\\nakki\\appdata\\roaming\\python\\python311\\site-packages (from grequests) (2.31.0)\n",
      "Collecting greenlet>=3.2.2 (from gevent->grequests)\n",
      "  Downloading greenlet-3.2.3-cp311-cp311-win_amd64.whl.metadata (4.2 kB)\n",
      "Collecting cffi>=1.17.1 (from gevent->grequests)\n",
      "  Downloading cffi-1.17.1-cp311-cp311-win_amd64.whl.metadata (1.6 kB)\n",
      "Collecting zope.event (from gevent->grequests)\n",
      "  Downloading zope_event-5.1-py3-none-any.whl.metadata (4.8 kB)\n",
      "Collecting zope.interface (from gevent->grequests)\n",
      "  Downloading zope.interface-7.2-cp311-cp311-win_amd64.whl.metadata (45 kB)\n",
      "     ---------------------------------------- 0.0/45.6 kB ? eta -:--:--\n",
      "     -------- ------------------------------- 10.2/45.6 kB ? eta -:--:--\n",
      "     ------------------------- ------------ 30.7/45.6 kB 435.7 kB/s eta 0:00:01\n",
      "     -------------------------------------- 45.6/45.6 kB 250.6 kB/s eta 0:00:00\n",
      "Requirement already satisfied: charset-normalizer<4,>=2 in c:\\users\\nakki\\appdata\\roaming\\python\\python311\\site-packages (from requests->grequests) (3.2.0)\n",
      "Requirement already satisfied: idna<4,>=2.5 in c:\\users\\nakki\\appdata\\roaming\\python\\python311\\site-packages (from requests->grequests) (3.4)\n",
      "Requirement already satisfied: urllib3<3,>=1.21.1 in c:\\users\\nakki\\appdata\\roaming\\python\\python311\\site-packages (from requests->grequests) (2.0.5)\n",
      "Requirement already satisfied: certifi>=2017.4.17 in c:\\users\\nakki\\appdata\\roaming\\python\\python311\\site-packages (from requests->grequests) (2023.7.22)\n",
      "Requirement already satisfied: pycparser in c:\\users\\nakki\\appdata\\roaming\\python\\python311\\site-packages (from cffi>=1.17.1->gevent->grequests) (2.21)\n",
      "Requirement already satisfied: setuptools in c:\\program files\\python311\\lib\\site-packages (from zope.event->gevent->grequests) (65.5.0)\n",
      "Downloading grequests-0.7.0-py2.py3-none-any.whl (5.7 kB)\n",
      "Downloading gevent-25.5.1-cp311-cp311-win_amd64.whl (1.6 MB)\n",
      "   ---------------------------------------- 0.0/1.6 MB ? eta -:--:--\n",
      "   - -------------------------------------- 0.0/1.6 MB 991.0 kB/s eta 0:00:02\n",
      "   - -------------------------------------- 0.0/1.6 MB 991.0 kB/s eta 0:00:02\n",
      "   - -------------------------------------- 0.1/1.6 MB 409.6 kB/s eta 0:00:04\n",
      "   -- ------------------------------------- 0.1/1.6 MB 512.0 kB/s eta 0:00:04\n",
      "   -- ------------------------------------- 0.1/1.6 MB 504.4 kB/s eta 0:00:04\n",
      "   --- ------------------------------------ 0.1/1.6 MB 502.3 kB/s eta 0:00:03\n",
      "   ---- ----------------------------------- 0.2/1.6 MB 513.4 kB/s eta 0:00:03\n",
      "   ------- -------------------------------- 0.3/1.6 MB 681.0 kB/s eta 0:00:02\n",
      "   ------- -------------------------------- 0.3/1.6 MB 703.7 kB/s eta 0:00:02\n",
      "   -------- ------------------------------- 0.3/1.6 MB 655.4 kB/s eta 0:00:02\n",
      "   ---------- ----------------------------- 0.4/1.6 MB 748.8 kB/s eta 0:00:02\n",
      "   ------------- -------------------------- 0.6/1.6 MB 891.2 kB/s eta 0:00:02\n",
      "   ---------------- ----------------------- 0.7/1.6 MB 999.0 kB/s eta 0:00:01\n",
      "   ------------------ --------------------- 0.8/1.6 MB 1.1 MB/s eta 0:00:01\n",
      "   ---------------------- ----------------- 0.9/1.6 MB 1.1 MB/s eta 0:00:01\n",
      "   ------------------------ --------------- 1.0/1.6 MB 1.2 MB/s eta 0:00:01\n",
      "   -------------------------- ------------- 1.1/1.6 MB 1.2 MB/s eta 0:00:01\n",
      "   ----------------------------- ---------- 1.2/1.6 MB 1.3 MB/s eta 0:00:01\n",
      "   ------------------------------- -------- 1.3/1.6 MB 1.3 MB/s eta 0:00:01\n",
      "   ---------------------------------- ----- 1.4/1.6 MB 1.4 MB/s eta 0:00:01\n",
      "   ----------------------------------- ---- 1.5/1.6 MB 1.4 MB/s eta 0:00:01\n",
      "   -------------------------------------- - 1.6/1.6 MB 1.4 MB/s eta 0:00:01\n",
      "   ---------------------------------------  1.6/1.6 MB 1.4 MB/s eta 0:00:01\n",
      "   ---------------------------------------- 1.6/1.6 MB 1.4 MB/s eta 0:00:00\n",
      "Downloading cffi-1.17.1-cp311-cp311-win_amd64.whl (181 kB)\n",
      "   ---------------------------------------- 0.0/181.4 kB ? eta -:--:--\n",
      "   ------------------------ --------------- 112.6/181.4 kB 2.2 MB/s eta 0:00:01\n",
      "   -------------------------------------- - 174.1/181.4 kB 2.6 MB/s eta 0:00:01\n",
      "   ---------------------------------------- 181.4/181.4 kB 1.8 MB/s eta 0:00:00\n",
      "Downloading greenlet-3.2.3-cp311-cp311-win_amd64.whl (297 kB)\n",
      "   ---------------------------------------- 0.0/297.0 kB ? eta -:--:--\n",
      "   ------------- -------------------------- 102.4/297.0 kB 6.1 MB/s eta 0:00:01\n",
      "   --------------------------------- ------ 245.8/297.0 kB 3.0 MB/s eta 0:00:01\n",
      "   ---------------------------------------- 297.0/297.0 kB 2.3 MB/s eta 0:00:00\n",
      "Downloading zope_event-5.1-py3-none-any.whl (6.9 kB)\n",
      "Downloading zope.interface-7.2-cp311-cp311-win_amd64.whl (212 kB)\n",
      "   ---------------------------------------- 0.0/212.3 kB ? eta -:--:--\n",
      "   ----------------------- ---------------- 122.9/212.3 kB 3.6 MB/s eta 0:00:01\n",
      "   ---------------------------------------- 212.3/212.3 kB 2.6 MB/s eta 0:00:00\n",
      "Installing collected packages: zope.interface, zope.event, greenlet, cffi, gevent, grequests\n",
      "Note: you may need to restart the kernel to use updated packages.\n"
     ]
    },
    {
     "name": "stderr",
     "output_type": "stream",
     "text": [
      "DEPRECATION: Loading egg at c:\\program files\\python311\\lib\\site-packages\\vboxapi-1.0-py3.11.egg is deprecated. pip 24.3 will enforce this behaviour change. A possible replacement is to use pip for package installation. Discussion can be found at https://github.com/pypa/pip/issues/12330\n",
      "ERROR: Could not install packages due to an OSError: [WinError 5] Access is denied: 'C:\\\\Program Files\\\\Python311\\\\Include\\\\greenlet'\n",
      "Consider using the `--user` option or check the permissions.\n",
      "\n",
      "\n",
      "[notice] A new release of pip is available: 24.1.1 -> 25.1.1\n",
      "[notice] To update, run: python.exe -m pip install --upgrade pip\n"
     ]
    }
   ],
   "source": [
    "pip install grequests"
   ]
  },
  {
   "cell_type": "code",
   "execution_count": null,
   "metadata": {},
   "outputs": [],
   "source": []
  }
 ],
 "metadata": {
  "kernelspec": {
   "display_name": "Python 3 (ipykernel)",
   "language": "python",
   "name": "python3"
  },
  "language_info": {
   "codemirror_mode": {
    "name": "ipython",
    "version": 3
   },
   "file_extension": ".py",
   "mimetype": "text/x-python",
   "name": "python",
   "nbconvert_exporter": "python",
   "pygments_lexer": "ipython3",
   "version": "3.11.5"
  }
 },
 "nbformat": 4,
 "nbformat_minor": 4
}
